{
 "cells": [
  {
   "cell_type": "code",
   "execution_count": null,
   "metadata": {},
   "outputs": [],
   "source": [
    "dict = {'BOROUGH':[1,2,3,4,5,], \"Borough_label\":[\"Manhattan\",\"Brooklyn\",\"Queens\", \"Bronx\",\"Staten Island\"]}\n",
    "df2 = pd.DataFrame.from_dict(dict)\n",
    "f3 = pd.merge(df,df2, on=['BOROUGH'], how='inner')"
   ]
  }
 ],
 "metadata": {
  "kernelspec": {
   "display_name": "Python 3",
   "language": "python",
   "name": "python3"
  },
  "language_info": {
   "codemirror_mode": {
    "name": "ipython",
    "version": 3
   },
   "file_extension": ".py",
   "mimetype": "text/x-python",
   "name": "python",
   "nbconvert_exporter": "python",
   "pygments_lexer": "ipython3",
   "version": "3.6.4"
  }
 },
 "nbformat": 4,
 "nbformat_minor": 2
}
